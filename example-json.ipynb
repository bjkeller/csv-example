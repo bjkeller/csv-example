{
 "cells": [
  {
   "cell_type": "code",
   "execution_count": 2,
   "metadata": {},
   "outputs": [],
   "source": [
    "import json\n",
    "from typing import Annotated, Literal, Union\n",
    "from pydantic import BaseModel, Field\n",
    "from polyfactory.factories.pydantic_factory import ModelFactory\n",
    "\n",
    "class ExampleData(BaseModel):\n",
    "    adcid: int = Field(ge=0, lt=100)\n",
    "    ptid: str = Field(min_length=1, max_length=10)\n",
    "    variable1: Union[Annotated[int,Field(ge=1, le=6)], Literal[88]]\n",
    "\n",
    "with open('example-data-schema.json', mode='w', encoding='utf-8') as schema_file:\n",
    "    json.dump(ExampleData.model_json_schema(), schema_file, indent=2)\n",
    "\n",
    "class ExampleFactory(ModelFactory[ExampleData]):\n",
    "    ..."
   ]
  },
  {
   "cell_type": "code",
   "execution_count": 4,
   "metadata": {},
   "outputs": [],
   "source": [
    "import random\n",
    "from csv import DictWriter\n",
    "\n",
    "example_list = []\n",
    "count = random.randrange(start=20, stop=1000)\n",
    "while count > 0:\n",
    "    example_list.append(ExampleFactory.build())\n",
    "    count -= 1\n",
    "\n",
    "with open('example-data.csv', mode='w', encoding='utf-8') as outfile:\n",
    "    writer = DictWriter(outfile, fieldnames=ExampleData.model_fields.keys(), dialect='unix')\n",
    "    writer.writeheader()\n",
    "    for example in example_list:\n",
    "        writer.writerow(example.model_dump())"
   ]
  }
 ],
 "metadata": {
  "kernelspec": {
   "display_name": "Python 3",
   "language": "python",
   "name": "python3"
  },
  "language_info": {
   "codemirror_mode": {
    "name": "ipython",
    "version": 3
   },
   "file_extension": ".py",
   "mimetype": "text/x-python",
   "name": "python",
   "nbconvert_exporter": "python",
   "pygments_lexer": "ipython3",
   "version": "3.12.0"
  }
 },
 "nbformat": 4,
 "nbformat_minor": 2
}
